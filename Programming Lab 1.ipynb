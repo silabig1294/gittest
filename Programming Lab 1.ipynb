{
 "cells": [
  {
   "cell_type": "markdown",
   "id": "151bf53c",
   "metadata": {},
   "source": [
    "# Random module"
   ]
  },
  {
   "cell_type": "code",
   "execution_count": null,
   "id": "f33aa67e",
   "metadata": {},
   "outputs": [],
   "source": [
    "import random\n",
    "#Test"
   ]
  },
  {
   "cell_type": "code",
   "execution_count": null,
   "id": "b7d0cc31",
   "metadata": {},
   "outputs": [],
   "source": [
    "random.randint(1, 10)"
   ]
  },
  {
   "cell_type": "code",
   "execution_count": null,
   "id": "a288a7b6",
   "metadata": {},
   "outputs": [],
   "source": [
    "mealChoice = [\"padtai\", \"kraprow\", \"noodle\"] \n",
    "random.choice(mealChoice)"
   ]
  },
  {
   "cell_type": "code",
   "execution_count": null,
   "id": "4b10de7d",
   "metadata": {},
   "outputs": [],
   "source": [
    "mealChoice = [\"padtai\", \"kraprow\", \"noodle\", \"sushi\", \"steak\"] \n",
    "random.sample(mealChoice, 3)"
   ]
  },
  {
   "cell_type": "markdown",
   "id": "ec237261",
   "metadata": {},
   "source": [
    "# String module"
   ]
  },
  {
   "cell_type": "code",
   "execution_count": null,
   "id": "900eacf1",
   "metadata": {},
   "outputs": [],
   "source": [
    "import string"
   ]
  },
  {
   "cell_type": "code",
   "execution_count": null,
   "id": "f11d9bf5",
   "metadata": {},
   "outputs": [],
   "source": [
    "result = string.ascii_lowercase\n",
    "print(result)"
   ]
  },
  {
   "cell_type": "code",
   "execution_count": null,
   "id": "7dac0027",
   "metadata": {},
   "outputs": [],
   "source": [
    "result = string.ascii_uppercase\n",
    "print(result)"
   ]
  },
  {
   "cell_type": "code",
   "execution_count": null,
   "id": "316ee3d3",
   "metadata": {},
   "outputs": [],
   "source": [
    "result = string.ascii_letters\n",
    "print(result)"
   ]
  },
  {
   "cell_type": "code",
   "execution_count": null,
   "id": "b7a1bb18",
   "metadata": {},
   "outputs": [],
   "source": [
    "result = string.digits\n",
    "print(result)"
   ]
  },
  {
   "cell_type": "code",
   "execution_count": null,
   "id": "03139044",
   "metadata": {},
   "outputs": [],
   "source": [
    "result = string.punctuation\n",
    "print(result)"
   ]
  },
  {
   "cell_type": "markdown",
   "id": "929349ed",
   "metadata": {},
   "source": [
    "# Random Password Generator"
   ]
  },
  {
   "cell_type": "markdown",
   "id": "f3d66359",
   "metadata": {},
   "source": [
    "1. Get length of the preferred password\n",
    "\n",
    "2. Get the password choice\n",
    "     1. Digits only\n",
    "     2. Letters only (Lowercase + Uppercase)\n",
    "     3. Letters and Digits \n",
    "     4. Letters, Digits, and Punctuations\n",
    "\n",
    "3. Generate a password of the user’s choice and length\n",
    "\n",
    "4. Display the generated password"
   ]
  },
  {
   "cell_type": "code",
   "execution_count": null,
   "id": "d7b11ca9",
   "metadata": {},
   "outputs": [],
   "source": [
    "import random\n",
    "import string\n",
    "\n",
    "length = int(input(\"Please enter length: \"))\n",
    "choice = int(input(\"Please enter choice (1: digit only, 2: letter only, 3: digit + letter, 4: digit + letter + punctuation):\"))\n",
    "\n",
    "if choice == 1:\n",
    "    character = string.digits\n",
    "    password = random.sample(character, length)\n",
    "    password = \"\".join(password)\n",
    "    \n",
    "elif choice == 2:\n",
    "    character = string.ascii_letters\n",
    "    password = random.sample(character, length)\n",
    "    password = \"\".join(password)\n",
    "    \n",
    "elif choice == 3:\n",
    "    character = string.digits + string.ascii_letter\n",
    "    password = random.sample(character, length)\n",
    "    password = \"\".join(password)\n",
    "    \n",
    "elif choice == 4:\n",
    "    character = string.digits + string.ascii_letters + string.punctuation\n",
    "    password = random.sample(character, length)\n",
    "    password = \"\".join(password)\n",
    "else:\n",
    "    print(\"Wrong choice\")\n",
    "    password = None\n",
    "    \n",
    "print(\"The generated password: \", password)\n"
   ]
  },
  {
   "cell_type": "markdown",
   "id": "ba9e29d2",
   "metadata": {},
   "source": [
    "# Create a function to handel password generating"
   ]
  },
  {
   "cell_type": "code",
   "execution_count": null,
   "id": "9eee922e",
   "metadata": {},
   "outputs": [],
   "source": [
    "import string\n",
    "import random\n",
    "\n",
    "def passwordGenerator(length, choice):\n",
    "    if choice == 1:\n",
    "        character = string.digits\n",
    "        password = random.sample(character, length)\n",
    "        password = \"\".join(password)\n",
    "    \n",
    "    elif choice == 2:\n",
    "        character = string.ascii_letters\n",
    "        password = random.sample(character, length)\n",
    "        password = \"\".join(password)\n",
    "    \n",
    "    elif choice == 3:\n",
    "        character = string.digits + string.ascii_letters\n",
    "        password = random.sample(character, length)\n",
    "        password = \"\".join(password)\n",
    "    \n",
    "    elif choice == 4:\n",
    "        character = string.digits + string.ascii_letters + string.punctuation\n",
    "        password = random.sample(character, length)\n",
    "        password = \"\".join(password)\n",
    "    else:\n",
    "        print(\"Wrong choice\")\n",
    "        password = None\n",
    "    return password\n",
    "\n",
    "length = int(input(\"Please enter length: \"))\n",
    "choice = int(input(\"Please enter choice (1: digit only, 2: letter only, 3: digit + letter, 4: digit + letter + punctuation):\"))\n",
    "generatedpassword = passwordGenerator(length, choice) \n",
    "print(\"Generated Password: \", generatedpassword)"
   ]
  },
  {
   "cell_type": "markdown",
   "id": "517eee32",
   "metadata": {},
   "source": [
    "# Keep asking the user to generate another password until they press \"n\""
   ]
  },
  {
   "cell_type": "code",
   "execution_count": null,
   "id": "6207fc71",
   "metadata": {},
   "outputs": [],
   "source": [
    "import string\n",
    "import random\n",
    "\n",
    "def passwordGenerator(length, choice):\n",
    "    if choice == 1:\n",
    "        character = string.digits\n",
    "        password = random.sample(character, length)\n",
    "        password = \"\".join(password)\n",
    "    \n",
    "    elif choice == 2:\n",
    "        character = string.ascii_letters\n",
    "        password = random.sample(character, length)\n",
    "        password = \"\".join(password)\n",
    "    \n",
    "    elif choice == 3:\n",
    "        character = string.digits + string.ascii_letters\n",
    "        password = random.sample(character, length)\n",
    "        password = \"\".join(password)\n",
    "    \n",
    "    elif choice == 4:\n",
    "        character = string.digits + string.ascii_letters + string.punctuation\n",
    "        password = random.sample(character, length)\n",
    "        password = \"\".join(password)\n",
    "    else:\n",
    "        print(\"Wrong choice\")\n",
    "        password = None\n",
    "    return password\n",
    "\n",
    "while(True):\n",
    "    length = int(input(\"Please enter length: \"))\n",
    "    choice = int(input(\"Please enter choice (1: digit only, 2: letter only, 3: digit + letter, 4: digit + letter + punctuation):\"))\n",
    "    generatedpassword = passwordGenerator(length, choice) \n",
    "    print(\"Generated Password: \", generatedpassword)\n",
    "    checker = input(\"Try again (y/n):\")\n",
    "    if checker == \"n\":\n",
    "        break"
   ]
  },
  {
   "cell_type": "markdown",
   "id": "a4bcc4bf",
   "metadata": {},
   "source": [
    "# Tkinter Package for GUI"
   ]
  },
  {
   "cell_type": "code",
   "execution_count": null,
   "id": "a4516b79",
   "metadata": {},
   "outputs": [],
   "source": [
    "#1. Import the Tkinter module.\n",
    "import tkinter as tk\n",
    "\n",
    "#2. Create the GUI application main window.\n",
    "root = tk.Tk()\n",
    "\n",
    "#3. Add one or more widgets to the GUI application.\n",
    "message = tk.Label(root, text = \"Hello World !\")\n",
    "\n",
    "#4. Choose Tkinter geometry management method\n",
    "message.pack() # or message = tk.Label(root, text = \"Hello World !\").pack()\n",
    "\n",
    "#5. Enter the main event loop to take action. \n",
    "root.mainloop()\n",
    "\n",
    "quit()"
   ]
  },
  {
   "cell_type": "markdown",
   "id": "3b180b32",
   "metadata": {},
   "source": [
    "# Pyperclip Module "
   ]
  },
  {
   "cell_type": "code",
   "execution_count": null,
   "id": "320c3ab3",
   "metadata": {},
   "outputs": [],
   "source": [
    "pip install pyperclip"
   ]
  },
  {
   "cell_type": "code",
   "execution_count": null,
   "id": "288e6c9a",
   "metadata": {},
   "outputs": [],
   "source": [
    "import pyperclip\n",
    "\n",
    "pyperclip.copy(\"I love Python\")\n",
    "pyperclip.paste()"
   ]
  },
  {
   "cell_type": "markdown",
   "id": "ec573cff",
   "metadata": {},
   "source": [
    "# Password Generator Using Library and Module"
   ]
  },
  {
   "attachments": {
    "Screen%20Shot%202022-01-28%20at%2023.47.16.png": {
     "image/png": "[encoded data removed]"
    }
   },
   "cell_type": "markdown",
   "id": "c368b75f",
   "metadata": {},
   "source": [
    "![Screen%20Shot%202022-01-28%20at%2023.47.16.png](attachment:Screen%20Shot%202022-01-28%20at%2023.47.16.png)"
   ]
  },
  {
   "cell_type": "code",
   "execution_count": null,
   "id": "2befbcb8",
   "metadata": {},
   "outputs": [],
   "source": [
    "import random\n",
    "import string\n",
    "import tkinter as tk\n",
    "import pyperclip as pc\n",
    "\n",
    "def generate():\n",
    "    entry.delete(0, tk.END)\n",
    "    length = lengthInput.get()\n",
    "    \n",
    "    lower = string.ascii_lowercase\n",
    "    upper = string.ascii_uppercase\n",
    "    num = string.digits\n",
    "    symbol = string.punctuation\n",
    "    \n",
    "    lowChoice = lower+upper\n",
    "    mediumChoice = lowChoice+num\n",
    "    strongChoice = mediumChoice+symbol\n",
    "    password = \"\"\n",
    " \n",
    "    \n",
    "    if strengthInput.get() == 0:\n",
    "        for i in range(length):\n",
    "            password = password+random.choice(lowChoice)\n",
    "    elif strengthInput.get() == 1:\n",
    "        for i in range(length):\n",
    "            password = password+random.choice(mediumChoice)\n",
    "    elif strengthInput.get() == 2:\n",
    "        for i in range(length):\n",
    "            password = password+random.choice(strongChoice)\n",
    "    else:\n",
    "        print(\"Please choose your preference\")\n",
    "    entry.insert(0,password)\n",
    "    \n",
    "def copy():\n",
    "    randomPassword = entry.get()\n",
    "    pc.copy(randomPassword)\n",
    "\n",
    "root = tk.Tk()\n",
    "lengthInput = tk.IntVar()\n",
    "strengthInput = tk.IntVar()\n",
    "\n",
    "root.title(\"Random Password Generator\")\n",
    "\n",
    "lengthLabel = tk.Label(root, text = \"Preferred Length\").grid(row = 0, column = 0)\n",
    "lengthChoice = tk.Spinbox(root, from_ = 4, to = 10, textvariable = lengthInput).grid(row = 0, column = 1)\n",
    "\n",
    "strengthLabel = tk.Label(root, text = \"Preferred Strength\").grid(row = 0, column = 2)\n",
    "lowStrength = tk.Radiobutton(root, text = \"Low\", variable = strengthInput, value = 0).grid(row = 0, column = 3)\n",
    "mediumStrength = tk.Radiobutton(root, text = \"Medium\", variable = strengthInput, value = 1).grid(row = 0, column = 4)\n",
    "strongStrength = tk.Radiobutton(root, text = \"Strong\", variable = strengthInput, value = 2).grid(row = 0, column = 5)\n",
    "\n",
    "randomPassword = tk.Label(root, text = \"Password\").grid(row = 1, column = 0)\n",
    "entry = tk.Entry(root)\n",
    "entry.grid(row = 1, column = 1)\n",
    "\n",
    "generateButton = tk.Button(root, text = \"Generate\", command = generate).grid(row = 1, column = 2)\n",
    "\n",
    "copyButton = tk.Button(root, text = \"Copy\", command = copy).grid(row = 1, column = 3)\n",
    "\n",
    "root.mainloop()\n",
    "\n",
    "quit()"
   ]
  }
 ],
 "metadata": {
  "kernelspec": {
   "display_name": "Python 3 (ipykernel)",
   "language": "python",
   "name": "python3"
  },
  "language_info": {
   "codemirror_mode": {
    "name": "ipython",
    "version": 3
   },
   "file_extension": ".py",
   "mimetype": "text/x-python",
   "name": "python",
   "nbconvert_exporter": "python",
   "pygments_lexer": "ipython3",
   "version": "3.9.7"
  }
 },
 "nbformat": 4,
 "nbformat_minor": 5
}
